{
 "cells": [
  {
   "cell_type": "code",
   "execution_count": 1,
   "metadata": {},
   "outputs": [],
   "source": [
    "import findspark\n",
    "findspark.init('/home/ubuntu/spark-2.1.1-bin-hadoop2.7')\n",
    "import pyspark\n",
    "from pyspark.sql import SparkSession\n",
    "spark = SparkSession.builder.appName('Iteration_4').getOrCreate()\n",
    "import pandas as pd"
   ]
  },
  {
   "cell_type": "code",
   "execution_count": 2,
   "metadata": {},
   "outputs": [
    {
     "name": "stdout",
     "output_type": "stream",
     "text": [
      "root\n",
      " |-- Store: integer (nullable = true)\n",
      " |-- Date: string (nullable = true)\n",
      " |-- Weekly_Sales: double (nullable = true)\n",
      " |-- Holiday_Flag: integer (nullable = true)\n",
      " |-- Temperature: double (nullable = true)\n",
      " |-- Fuel_Price: double (nullable = true)\n",
      " |-- CPI: double (nullable = true)\n",
      " |-- Unemployment: double (nullable = true)\n",
      "\n"
     ]
    }
   ],
   "source": [
    "df = spark.read.csv('Walmart_Store_sales.csv', inferSchema=True, header=True)\n",
    "df.printSchema()"
   ]
  },
  {
   "cell_type": "code",
   "execution_count": 3,
   "metadata": {},
   "outputs": [
    {
     "name": "stdout",
     "output_type": "stream",
     "text": [
      "+-----+----------+------------+------------+-----------+----------+-----------+------------+\n",
      "|Store|      Date|Weekly_Sales|Holiday_Flag|Temperature|Fuel_Price|        CPI|Unemployment|\n",
      "+-----+----------+------------+------------+-----------+----------+-----------+------------+\n",
      "|    1|05-02-2010|   1643690.9|           0|      42.31|     2.572|211.0963582|       8.106|\n",
      "|    1|12-02-2010|  1641957.44|           1|      38.51|     2.548|211.2421698|       8.106|\n",
      "|    1|19-02-2010|  1611968.17|           0|      39.93|     2.514|211.2891429|       8.106|\n",
      "|    1|26-02-2010|  1409727.59|           0|      46.63|     2.561|211.3196429|       8.106|\n",
      "|    1|05-03-2010|  1554806.68|           0|       46.5|     2.625|211.3501429|       8.106|\n",
      "|    1|12-03-2010|  1439541.59|           0|      57.79|     2.667|211.3806429|       8.106|\n",
      "|    1|19-03-2010|  1472515.79|           0|      54.58|      2.72| 211.215635|       8.106|\n",
      "|    1|26-03-2010|  1404429.92|           0|      51.45|     2.732|211.0180424|       8.106|\n",
      "|    1|02-04-2010|  1594968.28|           0|      62.27|     2.719|210.8204499|       7.808|\n",
      "|    1|09-04-2010|  1545418.53|           0|      65.86|      2.77|210.6228574|       7.808|\n",
      "|    1|16-04-2010|  1466058.28|           0|      66.32|     2.808|   210.4887|       7.808|\n",
      "|    1|23-04-2010|  1391256.12|           0|      64.84|     2.795|210.4391228|       7.808|\n",
      "|    1|30-04-2010|  1425100.71|           0|      67.41|      2.78|210.3895456|       7.808|\n",
      "|    1|07-05-2010|  1603955.12|           0|      72.55|     2.835|210.3399684|       7.808|\n",
      "|    1|14-05-2010|   1494251.5|           0|      74.78|     2.854|210.3374261|       7.808|\n",
      "|    1|21-05-2010|  1399662.07|           0|      76.44|     2.826|210.6170934|       7.808|\n",
      "|    1|28-05-2010|  1432069.95|           0|      80.44|     2.759|210.8967606|       7.808|\n",
      "|    1|04-06-2010|  1615524.71|           0|      80.69|     2.705|211.1764278|       7.808|\n",
      "|    1|11-06-2010|  1542561.09|           0|      80.43|     2.668|211.4560951|       7.808|\n",
      "|    1|18-06-2010|  1503284.06|           0|      84.11|     2.637|211.4537719|       7.808|\n",
      "+-----+----------+------------+------------+-----------+----------+-----------+------------+\n",
      "only showing top 20 rows\n",
      "\n"
     ]
    }
   ],
   "source": [
    "df.show()"
   ]
  },
  {
   "cell_type": "code",
   "execution_count": 4,
   "metadata": {},
   "outputs": [
    {
     "data": {
      "text/plain": [
       "['Store',\n",
       " 'Date',\n",
       " 'Weekly_Sales',\n",
       " 'Holiday_Flag',\n",
       " 'Temperature',\n",
       " 'Fuel_Price',\n",
       " 'CPI',\n",
       " 'Unemployment']"
      ]
     },
     "execution_count": 4,
     "metadata": {},
     "output_type": "execute_result"
    }
   ],
   "source": [
    "df.columns"
   ]
  },
  {
   "cell_type": "code",
   "execution_count": 5,
   "metadata": {},
   "outputs": [
    {
     "data": {
      "text/plain": [
       "6435"
      ]
     },
     "execution_count": 5,
     "metadata": {},
     "output_type": "execute_result"
    }
   ],
   "source": [
    "df.count()"
   ]
  },
  {
   "cell_type": "code",
   "execution_count": 6,
   "metadata": {},
   "outputs": [
    {
     "name": "stdout",
     "output_type": "stream",
     "text": [
      "+-------+------------------+----------+------------------+-------------------+------------------+-------------------+-----------------+------------------+\n",
      "|summary|             Store|      Date|      Weekly_Sales|       Holiday_Flag|       Temperature|         Fuel_Price|              CPI|      Unemployment|\n",
      "+-------+------------------+----------+------------------+-------------------+------------------+-------------------+-----------------+------------------+\n",
      "|  count|              6435|      6435|              6435|               6435|              6435|               6435|             6435|              6435|\n",
      "|   mean|              23.0|      null|1046964.8775617732|0.06993006993006994| 60.66378243978229|  3.358606837606832|171.5783938487799| 7.999151048951067|\n",
      "| stddev|12.988182381175454|      null| 564366.6220536977| 0.2550489443698279|18.444932875811585|0.45901970719285223|39.35671229566419|1.8758847818627944|\n",
      "|    min|                 1|01-04-2011|         209986.25|                  0|             -2.06|              2.472|          126.064|             3.879|\n",
      "|    max|                45|31-12-2010|        3818686.45|                  1|            100.14|              4.468|      227.2328068|            14.313|\n",
      "+-------+------------------+----------+------------------+-------------------+------------------+-------------------+-----------------+------------------+\n",
      "\n"
     ]
    }
   ],
   "source": [
    "df.describe().show()"
   ]
  },
  {
   "cell_type": "code",
   "execution_count": 7,
   "metadata": {},
   "outputs": [
    {
     "name": "stdout",
     "output_type": "stream",
     "text": [
      "0    0.93007\n",
      "1    0.06993\n",
      "Name: Holiday_Flag, dtype: float64\n",
      "(206377.55, 570856.27]      0.263714\n",
      "(570856.27, 931726.29]      0.212432\n",
      "(931726.29, 1292596.31]     0.197358\n",
      "(1292596.31, 1653466.33]    0.163015\n",
      "(1653466.33, 2014336.35]    0.103807\n",
      "(2014336.35, 2375206.37]    0.048796\n",
      "(2375206.37, 2736076.39]    0.005905\n",
      "(2736076.39, 3096946.41]    0.003108\n",
      "(3457816.43, 3818686.45]    0.001399\n",
      "(3096946.41, 3457816.43]    0.000466\n",
      "Name: Weekly_Sales, dtype: float64\n"
     ]
    },
    {
     "data": {
      "text/plain": [
       "<Figure size 640x480 with 1 Axes>"
      ]
     },
     "metadata": {},
     "output_type": "display_data"
    },
    {
     "data": {
      "text/plain": [
       "<Figure size 640x480 with 1 Axes>"
      ]
     },
     "metadata": {},
     "output_type": "display_data"
    }
   ],
   "source": [
    "store=pd.read_csv(\"Walmart_Store_sales.csv\")\n",
    "print(store[\"Holiday_Flag\"].value_counts(normalize=True))\n",
    "store_holiday_labels=['0','1']\n",
    "store_sale_box=pd.cut(store[\"Weekly_Sales\"],bins=10)\n",
    "print(store_sale_box.value_counts(normalize=True))\n",
    "store_sale_box_labels=['(206377, 570856]','(570856, 931726]','(931726, 1292596]','(1292596,1653466]','(1653466, 2014336]','(2014336, 2375206]','(2375206, 2736076]','(2736076, 3096946]','(3457816, 3818686]','(3096946, 3457816]']\n",
    "import matplotlib.pyplot as plt\n",
    "plt.title('Sales distribution',fontsize=14)\n",
    "plt.bar(range(10),store_sale_box.value_counts(normalize=True),tick_label=store_sale_box_labels)\n",
    "plt.show()\n",
    "plt.title('Holiday',fontsize=14)\n",
    "plt.bar(range(2),store[\"Holiday_Flag\"].value_counts(normalize=True),tick_label=store_holiday_labels)\n",
    "plt.show()"
   ]
  },
  {
   "cell_type": "code",
   "execution_count": 8,
   "metadata": {},
   "outputs": [
    {
     "data": {
      "text/plain": [
       "<matplotlib.axes._subplots.AxesSubplot at 0x7f6ffce45828>"
      ]
     },
     "execution_count": 8,
     "metadata": {},
     "output_type": "execute_result"
    },
    {
     "data": {
      "image/png": "[encoded data removed]",
      "text/plain": [
       "<Figure size 432x288 with 1 Axes>"
      ]
     },
     "metadata": {},
     "output_type": "display_data"
    }
   ],
   "source": [
    "store[\"Temperature\"].value_counts().sort_index().plot.line()"
   ]
  },
  {
   "cell_type": "code",
   "execution_count": 9,
   "metadata": {},
   "outputs": [
    {
     "data": {
      "text/plain": [
       "<matplotlib.axes._subplots.AxesSubplot at 0x7f6ffce0ba20>"
      ]
     },
     "execution_count": 9,
     "metadata": {},
     "output_type": "execute_result"
    },
    {
     "data": {
      "image/png": "[encoded data removed]",
      "text/plain": [
       "<Figure size 432x288 with 1 Axes>"
      ]
     },
     "metadata": {},
     "output_type": "display_data"
    }
   ],
   "source": [
    "store[\"Fuel_Price\"].value_counts().sort_index().plot.line()"
   ]
  },
  {
   "cell_type": "code",
   "execution_count": 10,
   "metadata": {},
   "outputs": [
    {
     "data": {
      "text/plain": [
       "<matplotlib.axes._subplots.AxesSubplot at 0x7f6ffcd79f60>"
      ]
     },
     "execution_count": 10,
     "metadata": {},
     "output_type": "execute_result"
    },
    {
     "data": {
      "image/png": "[encoded data removed]",
      "text/plain": [
       "<Figure size 432x288 with 1 Axes>"
      ]
     },
     "metadata": {},
     "output_type": "display_data"
    }
   ],
   "source": [
    "store[\"CPI\"].value_counts().sort_index().plot()"
   ]
  },
  {
   "cell_type": "code",
   "execution_count": 11,
   "metadata": {},
   "outputs": [
    {
     "data": {
      "text/plain": [
       "<matplotlib.axes._subplots.AxesSubplot at 0x7f6ffcd28320>"
      ]
     },
     "execution_count": 11,
     "metadata": {},
     "output_type": "execute_result"
    },
    {
     "data": {
      "image/png": "[encoded data removed]",
      "text/plain": [
       "<Figure size 432x288 with 1 Axes>"
      ]
     },
     "metadata": {},
     "output_type": "display_data"
    }
   ],
   "source": [
    "store[\"Unemployment\"].value_counts().sort_index().plot.line()"
   ]
  },
  {
   "cell_type": "code",
   "execution_count": 12,
   "metadata": {},
   "outputs": [
    {
     "data": {
      "image/png": "[encoded data removed]",
      "text/plain": [
       "<Figure size 432x288 with 1 Axes>"
      ]
     },
     "metadata": {},
     "output_type": "display_data"
    }
   ],
   "source": [
    "plt.scatter(x='Holiday_Flag',y='Weekly_Sales',data=store)\n",
    "plt.show()"
   ]
  },
  {
   "cell_type": "code",
   "execution_count": 13,
   "metadata": {},
   "outputs": [
    {
     "data": {
      "image/png": "[encoded data removed]",
      "text/plain": [
       "<Figure size 432x288 with 1 Axes>"
      ]
     },
     "metadata": {},
     "output_type": "display_data"
    }
   ],
   "source": [
    "plt.scatter(x='Temperature',y='Weekly_Sales',data=store)\n",
    "plt.show()"
   ]
  },
  {
   "cell_type": "code",
   "execution_count": 14,
   "metadata": {},
   "outputs": [
    {
     "data": {
      "image/png": "[encoded data removed]",
      "text/plain": [
       "<Figure size 432x288 with 1 Axes>"
      ]
     },
     "metadata": {},
     "output_type": "display_data"
    }
   ],
   "source": [
    "plt.scatter(x='Fuel_Price',y='Weekly_Sales',data=store)\n",
    "plt.show()"
   ]
  },
  {
   "cell_type": "code",
   "execution_count": 15,
   "metadata": {},
   "outputs": [
    {
     "data": {
      "image/png": "[encoded data removed]",
      "text/plain": [
       "<Figure size 432x288 with 1 Axes>"
      ]
     },
     "metadata": {},
     "output_type": "display_data"
    }
   ],
   "source": [
    "plt.scatter(x='CPI',y='Weekly_Sales',data=store)\n",
    "plt.show()"
   ]
  },
  {
   "cell_type": "code",
   "execution_count": 16,
   "metadata": {},
   "outputs": [
    {
     "data": {
      "image/png": "[encoded data removed]",
      "text/plain": [
       "<Figure size 432x288 with 1 Axes>"
      ]
     },
     "metadata": {},
     "output_type": "display_data"
    }
   ],
   "source": [
    "plt.scatter(x='Unemployment',y='Weekly_Sales',data=store)\n",
    "plt.show()"
   ]
  },
  {
   "cell_type": "code",
   "execution_count": 17,
   "metadata": {},
   "outputs": [
    {
     "data": {
      "text/plain": [
       "Store           0\n",
       "Date            0\n",
       "Weekly_Sales    0\n",
       "Holiday_Flag    0\n",
       "Temperature     0\n",
       "Fuel_Price      0\n",
       "CPI             0\n",
       "Unemployment    0\n",
       "dtype: int64"
      ]
     },
     "execution_count": 17,
     "metadata": {},
     "output_type": "execute_result"
    }
   ],
   "source": [
    "store.isnull().sum()"
   ]
  },
  {
   "cell_type": "code",
   "execution_count": 18,
   "metadata": {},
   "outputs": [
    {
     "name": "stdout",
     "output_type": "stream",
     "text": [
      "+------------+------------+-----------+----------+-----------+------------+\n",
      "|Weekly_Sales|Holiday_Flag|Temperature|Fuel_Price|        CPI|Unemployment|\n",
      "+------------+------------+-----------+----------+-----------+------------+\n",
      "|   1643690.9|           0|      42.31|     2.572|211.0963582|       8.106|\n",
      "|  1641957.44|           1|      38.51|     2.548|211.2421698|       8.106|\n",
      "|  1611968.17|           0|      39.93|     2.514|211.2891429|       8.106|\n",
      "|  1409727.59|           0|      46.63|     2.561|211.3196429|       8.106|\n",
      "|  1554806.68|           0|       46.5|     2.625|211.3501429|       8.106|\n",
      "|  1439541.59|           0|      57.79|     2.667|211.3806429|       8.106|\n",
      "|  1472515.79|           0|      54.58|      2.72| 211.215635|       8.106|\n",
      "|  1404429.92|           0|      51.45|     2.732|211.0180424|       8.106|\n",
      "|  1594968.28|           0|      62.27|     2.719|210.8204499|       7.808|\n",
      "|  1545418.53|           0|      65.86|      2.77|210.6228574|       7.808|\n",
      "|  1466058.28|           0|      66.32|     2.808|   210.4887|       7.808|\n",
      "|  1391256.12|           0|      64.84|     2.795|210.4391228|       7.808|\n",
      "|  1425100.71|           0|      67.41|      2.78|210.3895456|       7.808|\n",
      "|  1603955.12|           0|      72.55|     2.835|210.3399684|       7.808|\n",
      "|   1494251.5|           0|      74.78|     2.854|210.3374261|       7.808|\n",
      "|  1399662.07|           0|      76.44|     2.826|210.6170934|       7.808|\n",
      "|  1432069.95|           0|      80.44|     2.759|210.8967606|       7.808|\n",
      "|  1615524.71|           0|      80.69|     2.705|211.1764278|       7.808|\n",
      "|  1542561.09|           0|      80.43|     2.668|211.4560951|       7.808|\n",
      "|  1503284.06|           0|      84.11|     2.637|211.4537719|       7.808|\n",
      "+------------+------------+-----------+----------+-----------+------------+\n",
      "only showing top 20 rows\n",
      "\n"
     ]
    }
   ],
   "source": [
    "df1 = df.drop('Store')\n",
    "df2 = df1.drop('Date')\n",
    "df2.show()"
   ]
  },
  {
   "cell_type": "code",
   "execution_count": 19,
   "metadata": {},
   "outputs": [
    {
     "name": "stdout",
     "output_type": "stream",
     "text": [
      "+------------+------------+-----------+----------+---+------------+\n",
      "|Weekly_Sales|Holiday_Flag|Temperature|Fuel_Price|CPI|Unemployment|\n",
      "+------------+------------+-----------+----------+---+------------+\n",
      "|   1643690.9|           0|          0|         0|  1|           1|\n",
      "|  1641957.44|           1|          0|         0|  1|           1|\n",
      "|  1611968.17|           0|          0|         0|  1|           1|\n",
      "|  1409727.59|           0|          0|         0|  1|           1|\n",
      "|  1554806.68|           0|          0|         0|  1|           1|\n",
      "|  1439541.59|           0|          1|         0|  1|           1|\n",
      "|  1472515.79|           0|          1|         0|  1|           1|\n",
      "|  1404429.92|           0|          1|         0|  1|           1|\n",
      "|  1594968.28|           0|          1|         0|  1|           1|\n",
      "|  1545418.53|           0|          1|         0|  1|           1|\n",
      "|  1466058.28|           0|          1|         1|  1|           1|\n",
      "|  1391256.12|           0|          1|         0|  1|           1|\n",
      "|  1425100.71|           0|          1|         0|  1|           1|\n",
      "|  1603955.12|           0|          1|         1|  1|           1|\n",
      "|   1494251.5|           0|          1|         1|  1|           1|\n",
      "|  1399662.07|           0|          1|         1|  1|           1|\n",
      "|  1432069.95|           0|          1|         0|  1|           1|\n",
      "|  1615524.71|           0|          1|         0|  1|           1|\n",
      "|  1542561.09|           0|          1|         0|  1|           1|\n",
      "|  1503284.06|           0|          1|         0|  1|           1|\n",
      "+------------+------------+-----------+----------+---+------------+\n",
      "only showing top 20 rows\n",
      "\n"
     ]
    }
   ],
   "source": [
    "from pyspark.sql import functions as F\n",
    "data1=F.when(df2.Temperature < 50, 0).when(df.Temperature > 86, 2).otherwise(1)\n",
    "data2=F.when(df2.Fuel_Price < 2.8, 0).when(df.Fuel_Price > 3.1, 2).otherwise(1)\n",
    "data3=F.when(df2.CPI < 164, 0).when(df.CPI > 218, 2).otherwise(1)\n",
    "data4=F.when(df2.Unemployment < 5, 0).when(df.Unemployment > 10, 2).otherwise(1)\n",
    "\n",
    "df2 = df2.withColumn('Temperature',data1)\n",
    "df3 = df2.withColumn('Fuel_Price',data2)\n",
    "df4 = df3.withColumn('CPI',data3)\n",
    "df5 = df4.withColumn('Unemployment',data4)\n",
    "\n",
    "df5.show()\n"
   ]
  },
  {
   "cell_type": "code",
   "execution_count": 20,
   "metadata": {},
   "outputs": [
    {
     "name": "stdout",
     "output_type": "stream",
     "text": [
      "      Store        Date  Weekly_Sales  Holiday_Flag  Temperature  Fuel_Price  \\\n",
      "0         4  05-02-2010    2135143.87             0        43.76       2.598   \n",
      "1         4  12-02-2010    2188307.39             1        28.84       2.573   \n",
      "2         4  19-02-2010    2049860.26             0        36.45       2.540   \n",
      "3         4  26-02-2010    1925728.84             0        41.36       2.590   \n",
      "4         4  05-03-2010    1971057.44             0        43.49       2.654   \n",
      "5         4  12-03-2010    1894324.09             0        49.63       2.704   \n",
      "6         4  19-03-2010    1897429.36             0        55.19       2.743   \n",
      "7         4  26-03-2010    1762539.30             0        39.91       2.752   \n",
      "8         4  02-04-2010    1979247.12             0        48.77       2.740   \n",
      "9         4  09-04-2010    1818452.72             0        54.16       2.773   \n",
      "10        4  16-04-2010    1851519.69             0        56.23       2.810   \n",
      "11        4  23-04-2010    1802677.90             0        56.87       2.805   \n",
      "12        4  30-04-2010    1817273.28             0        53.04       2.787   \n",
      "13        4  07-05-2010    2000626.14             0        56.77       2.836   \n",
      "14        4  14-05-2010    1875597.28             0        62.35       2.845   \n",
      "15        4  21-05-2010    1903752.60             0        67.40       2.820   \n",
      "16        4  28-05-2010    1857533.70             0        67.73       2.756   \n",
      "17        4  04-06-2010    1903290.58             0        70.83       2.701   \n",
      "18        4  11-06-2010    1870619.23             0        78.45       2.668   \n",
      "19        4  18-06-2010    1929736.35             0        81.53       2.635   \n",
      "20        4  25-06-2010    1846651.95             0        81.10       2.654   \n",
      "21        4  02-07-2010    1881337.21             0        73.66       2.668   \n",
      "22        4  09-07-2010    1812208.22             0        80.35       2.637   \n",
      "23        4  16-07-2010    1898427.66             0        78.53       2.621   \n",
      "24        4  23-07-2010    1848426.78             0        79.78       2.612   \n",
      "25        4  30-07-2010    1796637.61             0        80.70       2.650   \n",
      "26        4  06-08-2010    1907638.58             0        76.53       2.640   \n",
      "27        4  13-08-2010    2007050.75             0        78.08       2.698   \n",
      "28        4  20-08-2010    1997181.09             0        78.83       2.671   \n",
      "29        4  27-08-2010    1848403.92             0        74.44       2.621   \n",
      "...     ...         ...           ...           ...          ...         ...   \n",
      "6405      3  06-04-2012     503232.13             0        73.01       3.891   \n",
      "6406      3  13-04-2012     420789.74             0        72.83       3.891   \n",
      "6407      3  20-04-2012     434822.13             0        72.05       3.877   \n",
      "6408      3  27-04-2012     394616.11             0        73.39       3.814   \n",
      "6409      3  04-05-2012     439913.57             0        79.51       3.749   \n",
      "6410      3  11-05-2012     431985.36             0        75.19       3.688   \n",
      "6411      3  18-05-2012     418112.76             0        72.38       3.630   \n",
      "6412      3  25-05-2012     413701.29             0        78.58       3.561   \n",
      "6413      3  01-06-2012     432268.53             0        81.55       3.501   \n",
      "6414      3  08-06-2012     446336.80             0        81.65       3.452   \n",
      "6415      3  15-06-2012     442074.79             0        84.66       3.393   \n",
      "6416      3  22-06-2012     419497.95             0        82.70       3.346   \n",
      "6417      3  29-06-2012     422965.33             0        86.42       3.286   \n",
      "6418      3  06-07-2012     411206.50             0        83.14       3.227   \n",
      "6419      3  13-07-2012     416913.10             0        82.28       3.256   \n",
      "6420      3  20-07-2012     432424.85             0        81.38       3.311   \n",
      "6421      3  27-07-2012     389427.90             0        84.94       3.407   \n",
      "6422      3  03-08-2012     419990.29             0        86.55       3.417   \n",
      "6423      3  10-08-2012     391811.60             0        85.85       3.494   \n",
      "6424      3  17-08-2012     394918.83             0        87.36       3.571   \n",
      "6425      3  24-08-2012     412449.67             0        83.01       3.620   \n",
      "6426      3  31-08-2012     408838.73             0        85.18       3.638   \n",
      "6427      3  07-09-2012     408229.73             1        84.99       3.730   \n",
      "6428      3  14-09-2012     407589.16             0        78.36       3.717   \n",
      "6429      3  21-09-2012     414392.09             0        72.78       3.721   \n",
      "6430      3  28-09-2012     389813.02             0        77.46       3.666   \n",
      "6431      3  05-10-2012     443557.65             0        72.74       3.617   \n",
      "6432      3  12-10-2012     410804.39             0        70.31       3.601   \n",
      "6433      3  19-10-2012     424513.08             0        73.44       3.594   \n",
      "6434      3  26-10-2012     405432.70             0        74.66       3.506   \n",
      "\n",
      "             CPI  Unemployment  \n",
      "0     126.442065         8.623  \n",
      "1     126.496258         8.623  \n",
      "2     126.526286         8.623  \n",
      "3     126.552286         8.623  \n",
      "4     126.578286         8.623  \n",
      "5     126.604286         8.623  \n",
      "6     126.606645         8.623  \n",
      "7     126.605064         8.623  \n",
      "8     126.603484         7.896  \n",
      "9     126.601903         7.896  \n",
      "10    126.562100         7.896  \n",
      "11    126.471333         7.896  \n",
      "12    126.380567         7.896  \n",
      "13    126.289800         7.896  \n",
      "14    126.208548         7.896  \n",
      "15    126.184387         7.896  \n",
      "16    126.160226         7.896  \n",
      "17    126.136065         7.896  \n",
      "18    126.111903         7.896  \n",
      "19    126.114000         7.896  \n",
      "20    126.126600         7.896  \n",
      "21    126.139200         7.372  \n",
      "22    126.151800         7.372  \n",
      "23    126.149806         7.372  \n",
      "24    126.128355         7.372  \n",
      "25    126.106903         7.372  \n",
      "26    126.085452         7.372  \n",
      "27    126.064000         7.372  \n",
      "28    126.076645         7.372  \n",
      "29    126.089290         7.372  \n",
      "...          ...           ...  \n",
      "6405  224.939340         6.664  \n",
      "6406  225.013556         6.664  \n",
      "6407  225.068954         6.664  \n",
      "6408  225.124353         6.664  \n",
      "6409  225.179751         6.664  \n",
      "6410  225.235150         6.664  \n",
      "6411  225.251202         6.664  \n",
      "6412  225.251517         6.664  \n",
      "6413  225.251831         6.664  \n",
      "6414  225.252146         6.664  \n",
      "6415  225.264479         6.664  \n",
      "6416  225.306861         6.664  \n",
      "6417  225.349244         6.664  \n",
      "6418  225.391625         6.334  \n",
      "6419  225.434007         6.334  \n",
      "6420  225.443883         6.334  \n",
      "6421  225.453758         6.334  \n",
      "6422  225.463633         6.334  \n",
      "6423  225.473509         6.334  \n",
      "6424  225.555866         6.334  \n",
      "6425  225.692586         6.334  \n",
      "6426  225.829306         6.334  \n",
      "6427  225.966026         6.334  \n",
      "6428  226.112207         6.334  \n",
      "6429  226.315150         6.334  \n",
      "6430  226.518093         6.334  \n",
      "6431  226.721036         6.034  \n",
      "6432  226.923979         6.034  \n",
      "6433  226.968844         6.034  \n",
      "6434  226.987364         6.034  \n",
      "\n",
      "[6435 rows x 8 columns]\n"
     ]
    }
   ],
   "source": [
    "df_store=pd.read_csv(\"Store.csv\")\n",
    "df_store1=pd.read_csv(\"store1.csv\")\n",
    "df_store2=pd.read_csv(\"store2.csv\")\n",
    "df_store3=pd.read_csv(\"store3.csv\")\n",
    "file=[df_store,df_store1,df_store2,df_store3]\n",
    "\n",
    "result=pd.concat(file)\n",
    "result.to_csv(\"Data\"+\".csv\",index=0,sep=',')\n",
    "data=pd.read_csv(\"Data.csv\")\n",
    "print(data)"
   ]
  },
  {
   "cell_type": "code",
   "execution_count": 21,
   "metadata": {},
   "outputs": [
    {
     "name": "stdout",
     "output_type": "stream",
     "text": [
      "root\n",
      " |-- Weekly_Sales: double (nullable = true)\n",
      " |-- Holiday_Flag: integer (nullable = true)\n",
      " |-- Temperature: integer (nullable = false)\n",
      " |-- Fuel_Price: integer (nullable = false)\n",
      " |-- CPI: integer (nullable = false)\n",
      " |-- Unemployment: integer (nullable = false)\n",
      "\n"
     ]
    }
   ],
   "source": [
    "df5.printSchema()"
   ]
  },
  {
   "cell_type": "code",
   "execution_count": 22,
   "metadata": {},
   "outputs": [
    {
     "name": "stdout",
     "output_type": "stream",
     "text": [
      "                     Store  Weekly_Sales  Holiday_Flag  Temperature  \\\n",
      "Store         1.000000e+00     -0.335332  6.250842e-20    -0.022659   \n",
      "Weekly_Sales -3.353320e-01      1.000000  3.689097e-02    -0.063810   \n",
      "Holiday_Flag  6.250842e-20      0.036891  1.000000e+00    -0.155091   \n",
      "Temperature  -2.265908e-02     -0.063810 -1.550913e-01     1.000000   \n",
      "Fuel_Price    6.002295e-02      0.009464 -7.834652e-02     0.144982   \n",
      "CPI          -2.094919e-01     -0.072634 -2.162091e-03     0.176888   \n",
      "Unemployment  2.235313e-01     -0.106176  1.096028e-02     0.101158   \n",
      "\n",
      "              Fuel_Price       CPI  Unemployment  \n",
      "Store           0.060023 -0.209492      0.223531  \n",
      "Weekly_Sales    0.009464 -0.072634     -0.106176  \n",
      "Holiday_Flag   -0.078347 -0.002162      0.010960  \n",
      "Temperature     0.144982  0.176888      0.101158  \n",
      "Fuel_Price      1.000000 -0.170642     -0.034684  \n",
      "CPI            -0.170642  1.000000     -0.302020  \n",
      "Unemployment   -0.034684 -0.302020      1.000000  \n"
     ]
    }
   ],
   "source": [
    "print(store.corr())"
   ]
  },
  {
   "cell_type": "code",
   "execution_count": 23,
   "metadata": {},
   "outputs": [
    {
     "name": "stdout",
     "output_type": "stream",
     "text": [
      "+------------+-----------+----------+---+------------+\n",
      "|Weekly_Sales|Temperature|Fuel_Price|CPI|Unemployment|\n",
      "+------------+-----------+----------+---+------------+\n",
      "|   1643690.9|          0|         0|  1|           1|\n",
      "|  1641957.44|          0|         0|  1|           1|\n",
      "|  1611968.17|          0|         0|  1|           1|\n",
      "|  1409727.59|          0|         0|  1|           1|\n",
      "|  1554806.68|          0|         0|  1|           1|\n",
      "|  1439541.59|          1|         0|  1|           1|\n",
      "|  1472515.79|          1|         0|  1|           1|\n",
      "|  1404429.92|          1|         0|  1|           1|\n",
      "|  1594968.28|          1|         0|  1|           1|\n",
      "|  1545418.53|          1|         0|  1|           1|\n",
      "|  1466058.28|          1|         1|  1|           1|\n",
      "|  1391256.12|          1|         0|  1|           1|\n",
      "|  1425100.71|          1|         0|  1|           1|\n",
      "|  1603955.12|          1|         1|  1|           1|\n",
      "|   1494251.5|          1|         1|  1|           1|\n",
      "|  1399662.07|          1|         1|  1|           1|\n",
      "|  1432069.95|          1|         0|  1|           1|\n",
      "|  1615524.71|          1|         0|  1|           1|\n",
      "|  1542561.09|          1|         0|  1|           1|\n",
      "|  1503284.06|          1|         0|  1|           1|\n",
      "+------------+-----------+----------+---+------------+\n",
      "only showing top 20 rows\n",
      "\n"
     ]
    }
   ],
   "source": [
    "df6 = df5.drop('Holiday_Flag')\n",
    "df6.show()"
   ]
  },
  {
   "cell_type": "code",
   "execution_count": 24,
   "metadata": {},
   "outputs": [
    {
     "name": "stdout",
     "output_type": "stream",
     "text": [
      "root\n",
      " |-- Weekly_Sales: double (nullable = true)\n",
      " |-- Temperature: integer (nullable = false)\n",
      " |-- Fuel_Price: integer (nullable = false)\n",
      " |-- CPI: integer (nullable = false)\n",
      " |-- Unemployment: integer (nullable = false)\n",
      " |-- features: vector (nullable = true)\n",
      "\n"
     ]
    }
   ],
   "source": [
    "from pyspark.ml.linalg import Vector\n",
    "from pyspark.ml.feature import VectorAssembler\n",
    "\n",
    "vec = VectorAssembler(inputCols=['Weekly_Sales', 'Temperature', 'Fuel_Price', 'CPI', 'Unemployment'], outputCol='features')\n",
    "features_df = vec.transform(df6)\n",
    " \n",
    " \n",
    "features_df.printSchema()"
   ]
  },
  {
   "cell_type": "code",
   "execution_count": 25,
   "metadata": {},
   "outputs": [
    {
     "name": "stdout",
     "output_type": "stream",
     "text": [
      "+--------------------+------------+\n",
      "|            features|Weekly_Sales|\n",
      "+--------------------+------------+\n",
      "|[1643690.9,0.0,0....|   1643690.9|\n",
      "|[1641957.44,0.0,0...|  1641957.44|\n",
      "|[1611968.17,0.0,0...|  1611968.17|\n",
      "|[1409727.59,0.0,0...|  1409727.59|\n",
      "|[1554806.68,0.0,0...|  1554806.68|\n",
      "|[1439541.59,1.0,0...|  1439541.59|\n",
      "|[1472515.79,1.0,0...|  1472515.79|\n",
      "|[1404429.92,1.0,0...|  1404429.92|\n",
      "|[1594968.28,1.0,0...|  1594968.28|\n",
      "|[1545418.53,1.0,0...|  1545418.53|\n",
      "|[1466058.28,1.0,1...|  1466058.28|\n",
      "|[1391256.12,1.0,0...|  1391256.12|\n",
      "|[1425100.71,1.0,0...|  1425100.71|\n",
      "|[1603955.12,1.0,1...|  1603955.12|\n",
      "|[1494251.5,1.0,1....|   1494251.5|\n",
      "|[1399662.07,1.0,1...|  1399662.07|\n",
      "|[1432069.95,1.0,0...|  1432069.95|\n",
      "|[1615524.71,1.0,0...|  1615524.71|\n",
      "|[1542561.09,1.0,0...|  1542561.09|\n",
      "|[1503284.06,1.0,0...|  1503284.06|\n",
      "+--------------------+------------+\n",
      "only showing top 20 rows\n",
      "\n"
     ]
    }
   ],
   "source": [
    "model_df = features_df.select('features','Weekly_Sales')\n",
    "model_df.show()"
   ]
  },
  {
   "cell_type": "code",
   "execution_count": 26,
   "metadata": {},
   "outputs": [
    {
     "name": "stdout",
     "output_type": "stream",
     "text": [
      "(4502, 1933)\n"
     ]
    }
   ],
   "source": [
    "train_df, test_df = model_df.randomSplit([0.7, 0.3])\n",
    "print((train_df.count(),test_df.count()))\n"
   ]
  },
  {
   "cell_type": "code",
   "execution_count": 27,
   "metadata": {},
   "outputs": [
    {
     "name": "stdout",
     "output_type": "stream",
     "text": [
      "Equation of the intercept:-2.5272037959730136e-09\n",
      "Equation parameter coefficient:[1.000000000000001,1.5224178267498172e-10,-4.2548848454440736e-11,2.538613768027099e-10,9.95092431263837e-10]\n",
      "The error difference squared:5.045106596182019e-19\n"
     ]
    }
   ],
   "source": [
    "from pyspark.ml.regression import LinearRegression        \n",
    "lin_Reg=LinearRegression(labelCol='Weekly_Sales')                            \n",
    "lr_model=lin_Reg.fit(train_df)                                              \n",
    "\n",
    "\n",
    "print('{}{}'.format('Equation of the intercept:',lr_model.intercept))                     \n",
    "\n",
    "print('{}{}'.format('Equation parameter coefficient:',lr_model.coefficients))             \n",
    "\n",
    "training_predictions=lr_model.evaluate(train_df)                                              \n",
    "\n",
    "print('{}{}'.format('The error difference squared:',training_predictions.meanSquaredError))            \n"
   ]
  }
 ],
 "metadata": {
  "kernelspec": {
   "display_name": "Python 3",
   "language": "python",
   "name": "python3"
  },
  "language_info": {
   "codemirror_mode": {
    "name": "ipython",
    "version": 3
   },
   "file_extension": ".py",
   "mimetype": "text/x-python",
   "name": "python",
   "nbconvert_exporter": "python",
   "pygments_lexer": "ipython3",
   "version": "3.5.2"
  }
 },
 "nbformat": 4,
 "nbformat_minor": 2
}
